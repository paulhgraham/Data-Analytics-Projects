{
 "cells": [
  {
   "cell_type": "code",
   "execution_count": 15,
   "metadata": {},
   "outputs": [],
   "source": [
    "import csv\n",
    "import sys #imports max size below\n",
    "number_months = 0\n",
    "total_revenue = 0\n",
    "delta_months = []\n",
    "previous_revenue = 0\n",
    "max_date = \"\"\n",
    "max_revenue = -sys.maxsize -1 #ensures smallest value in python\n",
    "min_date = \"\"\n",
    "min_revenue = sys.maxsize #ensures biggest value in python\n",
    "\n",
    "with open('raw_data/budget_data_1.csv') as f:\n",
    "    reader = csv.reader(f)\n",
    "    next(reader)\n",
    "    \n",
    "    for row in reader:\n",
    "        number_months += 1 #same thing as number_months = number_months + 1\n",
    "        total_revenue += int(row[1]) \n",
    "        revenue_change = int(row[1]) - previous_revenue\n",
    "        delta_months.append(revenue_change)\n",
    "        previous_revenue = int(row[1])\n",
    "        if revenue_change > max_revenue:\n",
    "            max_revenue = revenue_change\n",
    "            max_date = row[0]\n",
    "        if revenue_change < min_revenue:\n",
    "            min_revenue = revenue_change\n",
    "            min_date = row[0]"
   ]
  },
  {
   "cell_type": "code",
   "execution_count": 16,
   "metadata": {},
   "outputs": [
    {
     "data": {
      "text/plain": [
       "41"
      ]
     },
     "execution_count": 16,
     "metadata": {},
     "output_type": "execute_result"
    }
   ],
   "source": [
    "number_months"
   ]
  },
  {
   "cell_type": "code",
   "execution_count": 17,
   "metadata": {},
   "outputs": [
    {
     "data": {
      "text/plain": [
       "18971412"
      ]
     },
     "execution_count": 17,
     "metadata": {},
     "output_type": "execute_result"
    }
   ],
   "source": [
    "total_revenue"
   ]
  },
  {
   "cell_type": "code",
   "execution_count": 18,
   "metadata": {},
   "outputs": [
    {
     "data": {
      "text/plain": [
       "21559.37"
      ]
     },
     "execution_count": 18,
     "metadata": {},
     "output_type": "execute_result"
    }
   ],
   "source": [
    "round(sum(delta_months)/len(delta_months), 2)\n",
    "#using len and same variable helps to reduce possible error if missing data"
   ]
  },
  {
   "cell_type": "code",
   "execution_count": 19,
   "metadata": {},
   "outputs": [
    {
     "name": "stdout",
     "output_type": "stream",
     "text": [
      "1837235\n",
      "Feb-16\n"
     ]
    }
   ],
   "source": [
    "print(max_revenue)\n",
    "print(max_date)"
   ]
  },
  {
   "cell_type": "code",
   "execution_count": 20,
   "metadata": {},
   "outputs": [
    {
     "name": "stdout",
     "output_type": "stream",
     "text": [
      "-1779747\n",
      "Aug-14\n"
     ]
    }
   ],
   "source": [
    "print(min_revenue)\n",
    "#print('Greatest Increase in Revenue{}'.format(min_revenue)\n",
    "print(min_date)"
   ]
  },
  {
   "cell_type": "code",
   "execution_count": 22,
   "metadata": {},
   "outputs": [],
   "source": [
    "import csv\n",
    "import sys #imports max size below\n",
    "number_months2 = 0\n",
    "total_revenue2 = 0\n",
    "delta_months2 = []\n",
    "previous_revenue2 = 0\n",
    "max_date2 = \"\"\n",
    "max_revenue2 = -sys.maxsize -1 #ensures smallest value in python\n",
    "min_date2 = \"\"\n",
    "min_revenue2 = sys.maxsize #ensures biggest value in python\n",
    "\n",
    "with open('raw_data/budget_data_2.csv') as g:\n",
    "    reader = csv.reader(g)\n",
    "    next(reader)\n",
    "    \n",
    "    for row in reader:\n",
    "        number_months2 += 1 #same thing as number_months = number_months + 1\n",
    "        total_revenue2 += int(row[1]) \n",
    "        revenue_change2 = int(row[1]) - previous_revenue2\n",
    "        delta_months2.append(revenue_change2)\n",
    "        previous_revenue2 = int(row[1])\n",
    "        if revenue_change2 > max_revenue2:\n",
    "            max_revenue2 = revenue_change2\n",
    "            max_date2 = row[0]\n",
    "        if revenue_change2 < min_revenue2:\n",
    "            min_revenue2 = revenue_change2\n",
    "            min_date2 = row[0]"
   ]
  },
  {
   "cell_type": "code",
   "execution_count": 23,
   "metadata": {},
   "outputs": [
    {
     "data": {
      "text/plain": [
       "86"
      ]
     },
     "execution_count": 23,
     "metadata": {},
     "output_type": "execute_result"
    }
   ],
   "source": [
    "number_months2"
   ]
  },
  {
   "cell_type": "code",
   "execution_count": 24,
   "metadata": {},
   "outputs": [
    {
     "data": {
      "text/plain": [
       "36973911"
      ]
     },
     "execution_count": 24,
     "metadata": {},
     "output_type": "execute_result"
    }
   ],
   "source": [
    "total_revenue2"
   ]
  },
  {
   "cell_type": "code",
   "execution_count": 25,
   "metadata": {},
   "outputs": [
    {
     "data": {
      "text/plain": [
       "5087.08"
      ]
     },
     "execution_count": 25,
     "metadata": {},
     "output_type": "execute_result"
    }
   ],
   "source": [
    "round(sum(delta_months2)/len(delta_months2), 2)"
   ]
  },
  {
   "cell_type": "code",
   "execution_count": 26,
   "metadata": {},
   "outputs": [
    {
     "name": "stdout",
     "output_type": "stream",
     "text": [
      "1645140\n",
      "Jul-2014\n"
     ]
    }
   ],
   "source": [
    "print(max_revenue2)\n",
    "print(max_date2)"
   ]
  },
  {
   "cell_type": "code",
   "execution_count": 27,
   "metadata": {},
   "outputs": [
    {
     "name": "stdout",
     "output_type": "stream",
     "text": [
      "-1947745\n",
      "Jun-2014\n"
     ]
    }
   ],
   "source": [
    "print(min_revenue2)\n",
    "#print('Greatest Increase in Revenue{}'.format(min_revenue)\n",
    "print(min_date2)"
   ]
  },
  {
   "cell_type": "code",
   "execution_count": null,
   "metadata": {},
   "outputs": [],
   "source": []
  }
 ],
 "metadata": {
  "kernelspec": {
   "display_name": "Python 3",
   "language": "python",
   "name": "python3"
  },
  "language_info": {
   "codemirror_mode": {
    "name": "ipython",
    "version": 3
   },
   "file_extension": ".py",
   "mimetype": "text/x-python",
   "name": "python",
   "nbconvert_exporter": "python",
   "pygments_lexer": "ipython3",
   "version": "3.6.4"
  }
 },
 "nbformat": 4,
 "nbformat_minor": 2
}
